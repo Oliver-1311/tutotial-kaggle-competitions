{
 "cells": [
  {
   "cell_type": "markdown",
   "source": [
    "## Titanic: aprendizaje automático a partir de desastres"
   ],
   "metadata": {
    "collapsed": false
   },
   "id": "bfa80124a15429ad"
  },
  {
   "cell_type": "markdown",
   "source": [
    "###  Descripción del conjunto de datos\n",
    "**Descripción general**\n",
    "Los datos se han dividido en dos grupos:\n",
    "- Conjunto de entrenamiento (train.csv)\n",
    "- conjunto de prueba (test.csv)"
   ],
   "metadata": {
    "collapsed": false
   },
   "id": "23d9d0b6edd2403c"
  },
  {
   "cell_type": "markdown",
   "source": [
    "**El conjunto de entrenamiento** debe usarse para construir sus modelos de aprendizaje automático. Para el conjunto de capacitación, proporcionamos el resultado (también conocido como \"verdad sobre el terreno\") para cada pasajero. Su modelo se basará en \"características\" como el género y la clase de los pasajeros. También puede utilizar la ingeniería de funciones para crear nuevas funciones.\n",
    "\n",
    "**El conjunto de prueba** debe usarse para ver qué tan bien se desempeña su modelo con datos invisibles. Para el conjunto de prueba, no proporcionamos la verdad sobre el terreno para cada pasajero. Es su trabajo predecir estos resultados. Para cada pasajero del conjunto de prueba, utilice el modelo que entrenó para predecir si sobrevivió o no al hundimiento del Titanic.\n",
    "\n",
    "También incluimos **Gender_submission.csv** , un conjunto de predicciones que suponen que todas y solo las pasajeras sobreviven, como ejemplo de cómo debería verse un archivo de envío."
   ],
   "metadata": {
    "collapsed": false
   },
   "id": "33f47fb895cdacaa"
  },
  {
   "cell_type": "markdown",
   "source": [
    "### Diccionario de datos\n",
    "\n",
    "<table\n",
    "    style=\"text-align: left; line-height: 40px; border-collapse: separate; border-spacing: 0; border: 2px solid #ed1c40; width: 500px; margin: 50px auto; border-radius: .25rem;\">\n",
    "    <thead>\n",
    "        <tr style=\"background: #ed1c40; color: #fff; border: none;\">\n",
    "            <th colspan=\"3\" style=\"padding: 0 15px 0 20px;\">Diccionario de datos</th>    \n",
    "        </tr>\n",
    "        <tr>\n",
    "            <th style=\"padding: 0 15px 0 20px;\">Variable</th>\n",
    "            <th colspan=\"1\" style=\"padding: 0 15px 0 20px;\">Definición</th>\n",
    "            <th colspan=\"1\" style=\"padding: 0 15px 0 20px;\">Clave</th>\n",
    "        </tr>\n",
    "    </thead>\n",
    "    <tbody>\n",
    "        <tr style=\"background-color: #f2f2f2; cursor: default;\" onmouseover=\"this.style.backgroundColor='#f2f2f2';\"\n",
    "            onmouseout=\"this.style.backgroundColor='transparent';\">\n",
    "            <td style=\"padding: 0 15px 0 20px;\"><b>survival</b></td>\n",
    "            <td style=\"padding: 0 15px 0 20px;\">Supervivencia</td>\n",
    "            <td style=\"padding: 0 15px 0 20px; \">0 = No, 1 = Sí</td>\n",
    "        </tr>\n",
    "        <tr style=\"background-color: #f2f2f2; cursor: default;\" onmouseover=\"this.style.backgroundColor='#f2f2f2';\"\n",
    "            onmouseout=\"this.style.backgroundColor='transparent';\">\n",
    "            <td style=\"padding: 0 15px 0 20px;\"><b>pclass</b></td>\n",
    "            <td style=\"padding: 0 15px 0 20px;\">Design da nova marca</td>\n",
    "            <td style=\"padding: 0 15px 0 20px;\">1 = 1º, 2 = 2º, 3 = 3º </td>\n",
    "        </tr>\n",
    "        <tr style=\"background-color: #f2f2f2; cursor: default;\" onmouseover=\"this.style.backgroundColor='#f2f2f2';\"\n",
    "            onmouseout=\"this.style.backgroundColor='transparent';\">\n",
    "            <td style=\"padding: 0 15px 0 20px;\"><b>sex</b></td>\n",
    "            <td style=\"padding: 0 15px 0 20px;\">Sexo</td>\n",
    "            <td style=\"padding: 0 15px 0 20px;\"> </td>\n",
    "        </tr>\n",
    "        <tr style=\"background-color: #f2f2f2; cursor: default;\" onmouseover=\"this.style.backgroundColor='#f2f2f2';\"\n",
    "            onmouseout=\"this.style.backgroundColor='transparent';\">\n",
    "            <td style=\"padding: 0 15px 0 20px;\"><b>Age</b></td>\n",
    "            <td style=\"padding: 0 15px 0 20px;\">Edad en años</td>\n",
    "            <td style=\"padding: 0 15px 0 20px;\"> </td>\n",
    "        </tr>\n",
    "        <tr style=\"background-color: #f2f2f2; cursor: default;\" onmouseover=\"this.style.backgroundColor='#f2f2f2';\"\n",
    "            onmouseout=\"this.style.backgroundColor='transparent';\">\n",
    "            <td style=\"padding: 0 15px 0 20px;\"><b>sibsp</b></td>\n",
    "            <td style=\"padding: 0 15px 0 20px;\"># de hermanos/cónyuges a bordo del Titanic</td>\n",
    "            <td style=\"padding: 0 15px 0 20px;\"> </td>\n",
    "        </tr>\n",
    "        <tr style=\"background-color: #f2f2f2; cursor: default;\" onmouseover=\"this.style.backgroundColor='#f2f2f2';\"\n",
    "            onmouseout=\"this.style.backgroundColor='transparent';\">\n",
    "            <td style=\"padding: 0 15px 0 20px;\"><b>parch</b></td>\n",
    "            <td style=\"padding: 0 15px 0 20px;\"># de padres/hijos a bordo del Titanic</td>\n",
    "            <td style=\"padding: 0 15px 0 20px;\"> </td>\n",
    "        </tr>\n",
    "        <tr style=\"background-color: #f2f2f2; cursor: default;\" onmouseover=\"this.style.backgroundColor='#f2f2f2';\"\n",
    "            onmouseout=\"this.style.backgroundColor='transparent';\">\n",
    "            <td style=\"padding: 0 15px 0 20px;\"><b>ticket</b></td>\n",
    "            <td style=\"padding: 0 15px 0 20px;\">Numero de ticket</td>\n",
    "            <td style=\"padding: 0 15px 0 20px;\"> </td>\n",
    "        </tr>\n",
    "        <tr style=\"background-color: #f2f2f2; cursor: default;\" onmouseover=\"this.style.backgroundColor='#f2f2f2';\"\n",
    "            onmouseout=\"this.style.backgroundColor='transparent';\">\n",
    "            <td style=\"padding: 0 15px 0 20px;\"><b>fare</b></td>\n",
    "            <td style=\"padding: 0 15px 0 20px;\">Tarifa de pasajero</td>\n",
    "            <td style=\"padding: 0 15px 0 20px;\"> </td>\n",
    "        </tr>\n",
    "        <tr style=\"background-color: #f2f2f2; cursor: default;\" onmouseover=\"this.style.backgroundColor='#f2f2f2';\"\n",
    "            onmouseout=\"this.style.backgroundColor='transparent';\">\n",
    "            <td style=\"padding: 0 15px 0 20px;\"><b>cabin</b></td>\n",
    "            <td style=\"padding: 0 15px 0 20px;\">Número de cabina</td>\n",
    "            <td style=\"padding: 0 15px 0 20px;\"> </td>\n",
    "        </tr>\n",
    "        <tr style=\"background-color: #f2f2f2; cursor: default;\" onmouseover=\"this.style.backgroundColor='#f2f2f2';\"\n",
    "            onmouseout=\"this.style.backgroundColor='transparent';\">\n",
    "            <td style=\"padding: 0 15px 0 20px;\"><b>embarked</b></td>\n",
    "            <td style=\"padding: 0 15px 0 20px;\">Puerto de embarque</td>\n",
    "            <td style=\"padding: 0 15px 0 20px;\">C = Cherburgo, Q = Queenstown, S = Southampton </td>\n",
    "        </tr>\n",
    "    </tbody>\n",
    "</table>"
   ],
   "metadata": {
    "collapsed": false
   },
   "id": "411a026ac220daf0"
  },
  {
   "cell_type": "code",
   "outputs": [],
   "source": [],
   "metadata": {
    "collapsed": false
   },
   "id": "a0e3616d3ef2226e"
  }
 ],
 "metadata": {
  "kernelspec": {
   "display_name": "Python 3",
   "language": "python",
   "name": "python3"
  },
  "language_info": {
   "codemirror_mode": {
    "name": "ipython",
    "version": 2
   },
   "file_extension": ".py",
   "mimetype": "text/x-python",
   "name": "python",
   "nbconvert_exporter": "python",
   "pygments_lexer": "ipython2",
   "version": "2.7.6"
  }
 },
 "nbformat": 4,
 "nbformat_minor": 5
}
