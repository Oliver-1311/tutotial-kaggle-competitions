{
 "cells": [
  {
   "cell_type": "markdown",
   "source": [
    "# title asf",
    "# title asf"
   ],
   "metadata": {
    "collapsed": false
   },
   "id": "c3a1498549ce065a"
  },
  {
   "cell_type": "code",
   "outputs": [],
   "source": [],
   "metadata": {
    "collapsed": false
   },
   "id": "5d9549a8a725992a"
  }
 ],
 "metadata": {
  "kernelspec": {
   "display_name": "Python 3",
   "language": "python",
   "name": "python3"
  },
  "language_info": {
   "codemirror_mode": {
    "name": "ipython",
    "version": 3
   },
   "file_extension": ".py",
   "mimetype": "text/x-python",
   "name": "python",
   "nbconvert_exporter": "python",
   "pygments_lexer": "ipython3",
   "version": "Python 3.9.6"
  }
 },
 "nbformat": 4,
 "nbformat_minor": 5
}
